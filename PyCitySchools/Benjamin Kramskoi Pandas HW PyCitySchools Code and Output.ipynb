{
 "cells": [
  {
   "cell_type": "markdown",
   "metadata": {},
   "source": [
    "### Note\n",
    "* Instructions have been included for each segment. You do not have to follow them exactly, but they are included to help you think through the steps."
   ]
  },
  {
   "cell_type": "code",
   "execution_count": 70,
   "metadata": {
    "ExecuteTime": {
     "end_time": "2020-10-06T19:44:31.935484Z",
     "start_time": "2020-10-06T19:44:31.855607Z"
    }
   },
   "outputs": [],
   "source": [
    "# Dependencies and Setup\n",
    "import pandas as pd\n",
    "import csv\n",
    "import numpy as np\n",
    "import os\n",
    "\n",
    "# File to Load (Remember to Change These)\n",
    "school_data_to_load = \"schools_complete.csv\"\n",
    "student_data_to_load = \"students_complete.csv\"\n",
    "\n",
    "# Read School and Student Data File and store into Pandas DataFrames\n",
    "school_data = pd.read_csv(school_data_to_load)\n",
    "student_data = pd.read_csv(student_data_to_load)\n",
    "\n",
    "# Combine the data into a single dataset.  \n",
    "school_data_complete = pd.merge(student_data, school_data, how=\"left\", on=[\"school_name\", \"school_name\"])"
   ]
  },
  {
   "cell_type": "markdown",
   "metadata": {},
   "source": [
    "## District Summary\n",
    "\n",
    "* Calculate the total number of schools\n",
    "\n",
    "* Calculate the total number of students\n",
    "\n",
    "* Calculate the total budget\n",
    "\n",
    "* Calculate the average math score \n",
    "\n",
    "* Calculate the average reading score\n",
    "\n",
    "* Calculate the percentage of students with a passing math score (70 or greater)\n",
    "\n",
    "* Calculate the percentage of students with a passing reading score (70 or greater)\n",
    "\n",
    "* Calculate the percentage of students who passed math **and** reading (% Overall Passing)\n",
    "\n",
    "* Create a dataframe to hold the above results\n",
    "\n",
    "* Optional: give the displayed data cleaner formatting"
   ]
  },
  {
   "cell_type": "code",
   "execution_count": 71,
   "metadata": {
    "ExecuteTime": {
     "end_time": "2020-10-06T19:44:33.901829Z",
     "start_time": "2020-10-06T19:44:33.753226Z"
    }
   },
   "outputs": [
    {
     "name": "stdout",
     "output_type": "stream",
     "text": [
      "   Total Schools  Total Students  Total Budget  Average Math Score  \\\n",
      "0             15           39170      24649428           78.985371   \n",
      "\n",
      "   Average Reading Score  % Passing Math  % Passing Reading  % Overall Passing  \n",
      "0               81.87784       74.980853          85.805463          65.172326  \n"
     ]
    }
   ],
   "source": [
    "total_schools = school_data_complete.groupby('school_name').count()\n",
    "total_students = school_data_complete.groupby('Student ID').count()\n",
    "sdcbyschool = school_data_complete.groupby('School ID').max()\n",
    "sum_column = sdcbyschool['budget'].sum()\n",
    "avg_math_score = school_data_complete[\"math_score\"].mean()\n",
    "avg_reading_score = school_data_complete[\"reading_score\"].mean()\n",
    "passing_math = school_data_complete[school_data_complete['math_score'] >= 70]\n",
    "passing_math_count = passing_math['student_name'].count()   \n",
    "percent_passing_math = passing_math_count / len(total_students) * 100\n",
    "passing_reading = school_data_complete[school_data_complete['reading_score'] >= 70]\n",
    "passing_reading_count = passing_reading['student_name'].count()\n",
    "percent_passing_reading = passing_reading_count / len(total_students) * 100\n",
    "overall_passing = school_data_complete[(school_data_complete['math_score'] >= 70) & (school_data_complete['reading_score']>=70)] \n",
    "overall_passing_count = overall_passing['student_name'].count()\n",
    "percent_overall_passing = overall_passing_count / len(total_students) * 100\n",
    "df = pd.DataFrame({'Total Schools': [len(total_schools)], 'Total Students': [len(total_students)], 'Total Budget': [sum_column], 'Average Math Score': [avg_math_score], 'Average Reading Score': [avg_reading_score], '% Passing Math': [percent_passing_math], '% Passing Reading': [percent_passing_reading], '% Overall Passing': [percent_overall_passing]})\n",
    "print(df)"
   ]
  },
  {
   "cell_type": "markdown",
   "metadata": {},
   "source": [
    "## School Summary"
   ]
  },
  {
   "cell_type": "markdown",
   "metadata": {},
   "source": [
    "* Create an overview table that summarizes key metrics about each school, including:\n",
    "  * School Name\n",
    "  * School Type\n",
    "  * Total Students\n",
    "  * Total School Budget\n",
    "  * Per Student Budget\n",
    "  * Average Math Score\n",
    "  * Average Reading Score\n",
    "  * % Passing Math\n",
    "  * % Passing Reading\n",
    "  * % Overall Passing (The percentage of students that passed math **and** reading.)\n",
    "  \n",
    "* Create a dataframe to hold the above results"
   ]
  },
  {
   "cell_type": "code",
   "execution_count": 72,
   "metadata": {
    "ExecuteTime": {
     "end_time": "2020-10-06T19:44:36.613059Z",
     "start_time": "2020-10-06T19:44:36.542282Z"
    }
   },
   "outputs": [
    {
     "name": "stdout",
     "output_type": "stream",
     "text": [
      "                     school_name      type  Student ID   budget  math_score  \\\n",
      "School ID                                                                     \n",
      "0              Huang High School  District        2917  1910635   76.629414   \n",
      "1           Figueroa High School  District        2949  1884411   76.711767   \n",
      "2            Shelton High School   Charter        1761  1056600   83.359455   \n",
      "3          Hernandez High School  District        4635  3022020   77.289752   \n",
      "4            Griffin High School   Charter        1468   917500   83.351499   \n",
      "5             Wilson High School   Charter        2283  1319574   83.274201   \n",
      "6            Cabrera High School   Charter        1858  1081356   83.061895   \n",
      "7             Bailey High School  District        4976  3124928   77.048432   \n",
      "8             Holden High School   Charter         427   248087   83.803279   \n",
      "9               Pena High School   Charter         962   585858   83.839917   \n",
      "10            Wright High School   Charter        1800  1049400   83.682222   \n",
      "11         Rodriguez High School  District        3999  2547363   76.842711   \n",
      "12           Johnson High School  District        4761  3094650   77.072464   \n",
      "13              Ford High School  District        2739  1763916   77.102592   \n",
      "14            Thomas High School   Charter        1635  1043130   83.418349   \n",
      "\n",
      "           reading_score  % Passing Math  % Passing Reading  \\\n",
      "School ID                                                     \n",
      "0              81.182722       65.683922          81.316421   \n",
      "1              81.158020       65.988471          80.739234   \n",
      "2              83.725724       93.867121          95.854628   \n",
      "3              80.934412       66.752967          80.862999   \n",
      "4              83.816757       93.392371          97.138965   \n",
      "5              83.989488       93.867718          96.539641   \n",
      "6              83.975780       94.133477          97.039828   \n",
      "7              81.033963       66.680064          81.933280   \n",
      "8              83.814988       92.505855          96.252927   \n",
      "9              84.044699       94.594595          95.945946   \n",
      "10             83.955000       93.333333          96.611111   \n",
      "11             80.744686       66.366592          80.220055   \n",
      "12             80.966394       66.057551          81.222432   \n",
      "13             80.746258       68.309602          79.299014   \n",
      "14             83.848930       93.272171          97.308869   \n",
      "\n",
      "           % Overall Passing  Per_Student_Budget  \n",
      "School ID                                         \n",
      "0                  53.513884               655.0  \n",
      "1                  53.204476               639.0  \n",
      "2                  89.892107               600.0  \n",
      "3                  53.527508               652.0  \n",
      "4                  90.599455               625.0  \n",
      "5                  90.582567               578.0  \n",
      "6                  91.334769               582.0  \n",
      "7                  54.642283               628.0  \n",
      "8                  89.227166               581.0  \n",
      "9                  90.540541               609.0  \n",
      "10                 90.333333               583.0  \n",
      "11                 52.988247               637.0  \n",
      "12                 53.539172               650.0  \n",
      "13                 54.289887               644.0  \n",
      "14                 90.948012               638.0  \n"
     ]
    }
   ],
   "source": [
    "\n",
    "school_data_complete.loc[school_data_complete['math_score']>= 70,'Passing Math']=1\n",
    "school_data_complete.loc[school_data_complete['math_score']< 70,'Passing Math']=0\n",
    "school_data_complete.loc[school_data_complete['reading_score']>= 70,'Passing Reading']=1\n",
    "school_data_complete.loc[school_data_complete['reading_score']< 70,'Passing Reading']=0\n",
    "school_data_complete.loc[(school_data_complete['math_score']>= 70) & (school_data_complete['reading_score']>=70),'Overall Passing']=1 \n",
    "school_data_complete.loc[(school_data_complete['math_score']< 70) | (school_data_complete['reading_score']<70),'Overall Passing']=0\n",
    "                                         \n",
    "dfs=school_data_complete.groupby('School ID').agg( { 'school_name':'first',\n",
    "                                                   'type':'first',\n",
    "                                                   'Student ID':'count',\n",
    "                                                    'budget':'max',\n",
    "                                                    'math_score':'mean',\n",
    "                                                    'reading_score':'mean',\n",
    "                                                    'Passing Math':'sum',\n",
    "                                                    'Passing Reading':'sum',\n",
    "                                                    'Overall Passing': 'sum'\n",
    "                                                   }\n",
    "                                                 )\n",
    "\n",
    "\n",
    "dfs['% Passing Math']=dfs['Passing Math']/dfs['Student ID']*100\n",
    "dfs['% Passing Reading']=dfs['Passing Reading']/dfs['Student ID']*100\n",
    "dfs['% Overall Passing']=dfs['Overall Passing']/dfs['Student ID']*100\n",
    "dfs['Per_Student_Budget']=dfs['budget']/dfs['Student ID']\n",
    "dfsorig=dfs.copy()\n",
    "del dfs['Passing Math']\n",
    "del dfs['Passing Reading']\n",
    "del dfs['Overall Passing']\n",
    "school_data_complete.rename({'type': 'School Type', 'Student ID': 'Total Students', 'budget' : 'Total School Budget', 'math_score' :'Average Math Score', 'reading_score' : 'Average Reading Score', 'Per_Student_Budget' : 'Per Student Budget'})\n",
    "#dfs = pd.DataFrame({'School Type': [len(school_type)], 'Total Students': [len(total_students)], 'Total School Budget': [sum_column], 'Average Math Score': [avg_math_score], 'Average Reading Score': [avg_reading_score], 'Per Student Budget': [len(per_student_budget)]})\n",
    "print(dfs)\n"
   ]
  },
  {
   "cell_type": "markdown",
   "metadata": {},
   "source": [
    "## Top Performing Schools (By % Overall Passing)"
   ]
  },
  {
   "cell_type": "markdown",
   "metadata": {},
   "source": [
    "* Sort and display the top five performing schools by % overall passing."
   ]
  },
  {
   "cell_type": "code",
   "execution_count": 73,
   "metadata": {
    "ExecuteTime": {
     "end_time": "2020-10-06T19:44:41.760298Z",
     "start_time": "2020-10-06T19:44:41.749329Z"
    },
    "scrolled": true
   },
   "outputs": [
    {
     "name": "stdout",
     "output_type": "stream",
     "text": [
      "                   school_name     type  Student ID   budget  math_score  \\\n",
      "School ID                                                                  \n",
      "6          Cabrera High School  Charter        1858  1081356   83.061895   \n",
      "14          Thomas High School  Charter        1635  1043130   83.418349   \n",
      "4          Griffin High School  Charter        1468   917500   83.351499   \n",
      "5           Wilson High School  Charter        2283  1319574   83.274201   \n",
      "9             Pena High School  Charter         962   585858   83.839917   \n",
      "\n",
      "           reading_score  % Passing Math  % Passing Reading  \\\n",
      "School ID                                                     \n",
      "6              83.975780       94.133477          97.039828   \n",
      "14             83.848930       93.272171          97.308869   \n",
      "4              83.816757       93.392371          97.138965   \n",
      "5              83.989488       93.867718          96.539641   \n",
      "9              84.044699       94.594595          95.945946   \n",
      "\n",
      "           % Overall Passing  Per_Student_Budget  \n",
      "School ID                                         \n",
      "6                  91.334769               582.0  \n",
      "14                 90.948012               638.0  \n",
      "4                  90.599455               625.0  \n",
      "5                  90.582567               578.0  \n",
      "9                  90.540541               609.0  \n"
     ]
    }
   ],
   "source": [
    "dfs.sort_values(by=['% Overall Passing'],inplace=True,ascending=False)\n",
    "print(dfs.head(5))"
   ]
  },
  {
   "cell_type": "markdown",
   "metadata": {},
   "source": [
    "## Bottom Performing Schools (By % Overall Passing)"
   ]
  },
  {
   "cell_type": "markdown",
   "metadata": {},
   "source": [
    "* Sort and display the five worst-performing schools by % overall passing."
   ]
  },
  {
   "cell_type": "code",
   "execution_count": 74,
   "metadata": {
    "ExecuteTime": {
     "end_time": "2020-10-06T19:44:43.825901Z",
     "start_time": "2020-10-06T19:44:43.816919Z"
    }
   },
   "outputs": [
    {
     "name": "stdout",
     "output_type": "stream",
     "text": [
      "                     school_name      type  Student ID   budget  math_score  \\\n",
      "School ID                                                                     \n",
      "11         Rodriguez High School  District        3999  2547363   76.842711   \n",
      "1           Figueroa High School  District        2949  1884411   76.711767   \n",
      "0              Huang High School  District        2917  1910635   76.629414   \n",
      "3          Hernandez High School  District        4635  3022020   77.289752   \n",
      "12           Johnson High School  District        4761  3094650   77.072464   \n",
      "\n",
      "           reading_score  % Passing Math  % Passing Reading  \\\n",
      "School ID                                                     \n",
      "11             80.744686       66.366592          80.220055   \n",
      "1              81.158020       65.988471          80.739234   \n",
      "0              81.182722       65.683922          81.316421   \n",
      "3              80.934412       66.752967          80.862999   \n",
      "12             80.966394       66.057551          81.222432   \n",
      "\n",
      "           % Overall Passing  Per_Student_Budget  \n",
      "School ID                                         \n",
      "11                 52.988247               637.0  \n",
      "1                  53.204476               639.0  \n",
      "0                  53.513884               655.0  \n",
      "3                  53.527508               652.0  \n",
      "12                 53.539172               650.0  \n"
     ]
    }
   ],
   "source": [
    "dfs.sort_values(by=['% Overall Passing'],inplace=True,ascending=True)\n",
    "print(dfs.head(5))"
   ]
  },
  {
   "cell_type": "markdown",
   "metadata": {
    "collapsed": true
   },
   "source": [
    "## Math Scores by Grade"
   ]
  },
  {
   "cell_type": "markdown",
   "metadata": {},
   "source": [
    "* Create a table that lists the average Reading Score for students of each grade level (9th, 10th, 11th, 12th) at each school.\n",
    "\n",
    "  * Create a pandas series for each grade. Hint: use a conditional statement.\n",
    "  \n",
    "  * Group each series by school\n",
    "  \n",
    "  * Combine the series into a dataframe\n",
    "  \n",
    "  * Optional: give the displayed data cleaner formatting"
   ]
  },
  {
   "cell_type": "code",
   "execution_count": 75,
   "metadata": {
    "ExecuteTime": {
     "end_time": "2020-10-06T19:44:46.392659Z",
     "start_time": "2020-10-06T19:44:46.354761Z"
    }
   },
   "outputs": [
    {
     "name": "stdout",
     "output_type": "stream",
     "text": [
      "                             9th       10th       11th       12th\n",
      "school_name                                                      \n",
      "Bailey High School     77.083676  76.996772  77.515588  76.492218\n",
      "Cabrera High School    83.094697  83.154506  82.765560  83.277487\n",
      "Figueroa High School   76.403037  76.539974  76.884344  77.151369\n",
      "Ford High School       77.361345  77.672316  76.918058  76.179963\n",
      "Griffin High School    82.044010  84.229064  83.842105  83.356164\n",
      "Hernandez High School  77.438495  77.337408  77.136029  77.186567\n",
      "Holden High School     83.787402  83.429825  85.000000  82.855422\n",
      "Huang High School      77.027251  75.908735  76.446602  77.225641\n",
      "Johnson High School    77.187857  76.691117  77.491653  76.863248\n",
      "Pena High School       83.625455  83.372000  84.328125  84.121547\n",
      "Rodriguez High School  76.859966  76.612500  76.395626  77.690748\n",
      "Shelton High School    83.420755  82.917411  83.383495  83.778976\n",
      "Thomas High School     83.590022  83.087886  83.498795  83.497041\n",
      "Wilson High School     83.085578  83.724422  83.195326  83.035794\n",
      "Wright High School     83.264706  84.010288  83.836782  83.644986\n"
     ]
    }
   ],
   "source": [
    "school_data_complete.head(5)\n",
    "dfg=school_data_complete.groupby(by=[\"school_name\",\"grade\"]).mean()\n",
    "del dfg['reading_score']\n",
    "del dfg['Student ID']\n",
    "del dfg['School ID']\n",
    "del dfg['size']\n",
    "del dfg['budget']\n",
    "del dfg['Passing Reading']\n",
    "del dfg['Overall Passing']\n",
    "del dfg['Passing Math']\n",
    "dft = dfg.query('grade  == \"9th\"')\n",
    "ser9 = pd.Series(dft['math_score'].values, index=dft.index.get_level_values(\"school_name\"))\n",
    "dft = dfg.query('grade == \"10th\"')\n",
    "ser10 = pd.Series(dft['math_score'].values, index=dft.index.get_level_values(\"school_name\"))\n",
    "dft = dfg.query('grade == \"11th\"')\n",
    "ser11 = pd.Series(dft['math_score'].values, index=dft.index.get_level_values(\"school_name\"))\n",
    "dft = dfg.query('grade == \"12th\"')\n",
    "ser12 = pd.Series(dft['math_score'].values, index=dft.index.get_level_values(\"school_name\"))\n",
    "listSchoolNames=ser9.index.get_level_values(\"school_name\")\n",
    "frame = {'9th': ser9, '10th': ser10, '11th': ser11, '12th': ser12 } \n",
    "df_math_scores = pd.DataFrame(frame) \n",
    "print(df_math_scores) \n"
   ]
  },
  {
   "cell_type": "markdown",
   "metadata": {},
   "source": [
    "## Reading Score by Grade "
   ]
  },
  {
   "cell_type": "markdown",
   "metadata": {},
   "source": [
    "* Perform the same operations as above for reading scores"
   ]
  },
  {
   "cell_type": "code",
   "execution_count": 76,
   "metadata": {
    "ExecuteTime": {
     "end_time": "2020-10-06T19:44:48.769850Z",
     "start_time": "2020-10-06T19:44:48.728928Z"
    }
   },
   "outputs": [
    {
     "name": "stdout",
     "output_type": "stream",
     "text": [
      "                             9th       10th       11th       12th\n",
      "school_name                                                      \n",
      "Bailey High School     81.303155  80.907183  80.945643  80.912451\n",
      "Cabrera High School    83.676136  84.253219  83.788382  84.287958\n",
      "Figueroa High School   81.198598  81.408912  80.640339  81.384863\n",
      "Ford High School       80.632653  81.262712  80.403642  80.662338\n",
      "Griffin High School    83.369193  83.706897  84.288089  84.013699\n",
      "Hernandez High School  80.866860  80.660147  81.396140  80.857143\n",
      "Holden High School     83.677165  83.324561  83.815534  84.698795\n",
      "Huang High School      81.290284  81.512386  81.417476  80.305983\n",
      "Johnson High School    81.260714  80.773431  80.616027  81.227564\n",
      "Pena High School       83.807273  83.612000  84.335938  84.591160\n",
      "Rodriguez High School  80.993127  80.629808  80.864811  80.376426\n",
      "Shelton High School    84.122642  83.441964  84.373786  82.781671\n",
      "Thomas High School     83.728850  84.254157  83.585542  83.831361\n",
      "Wilson High School     83.939778  84.021452  83.764608  84.317673\n",
      "Wright High School     83.833333  83.812757  84.156322  84.073171\n"
     ]
    }
   ],
   "source": [
    "school_data_complete.head(5)\n",
    "dfg=school_data_complete.groupby(by=[\"school_name\",\"grade\"]).mean()\n",
    "del dfg['math_score']\n",
    "del dfg['Student ID']\n",
    "del dfg['School ID']\n",
    "del dfg['size']\n",
    "del dfg['budget']\n",
    "del dfg['Passing Reading']\n",
    "del dfg['Overall Passing']\n",
    "del dfg['Passing Math']\n",
    "dft = dfg.query('grade  == \"9th\"')\n",
    "ser9 = pd.Series(dft['reading_score'].values, index=dft.index.get_level_values(\"school_name\"))\n",
    "dft = dfg.query('grade == \"10th\"')\n",
    "ser10 = pd.Series(dft['reading_score'].values, index=dft.index.get_level_values(\"school_name\"))\n",
    "dft = dfg.query('grade == \"11th\"')\n",
    "ser11 = pd.Series(dft['reading_score'].values, index=dft.index.get_level_values(\"school_name\"))\n",
    "dft = dfg.query('grade == \"12th\"')\n",
    "ser12 = pd.Series(dft['reading_score'].values, index=dft.index.get_level_values(\"school_name\"))\n",
    "listSchoolNames=ser9.index.get_level_values(\"school_name\")\n",
    "frame = {'9th': ser9, '10th': ser10, '11th': ser11, '12th': ser12 } \n",
    "df_reading_scores = pd.DataFrame(frame) \n",
    "print(df_reading_scores) \n"
   ]
  },
  {
   "cell_type": "markdown",
   "metadata": {},
   "source": [
    "## Scores by School Spending"
   ]
  },
  {
   "cell_type": "markdown",
   "metadata": {},
   "source": [
    "* Create a table that breaks down school performances based on average Spending Ranges (Per Student). Use 4 reasonable bins to group school spending. Include in the table each of the following:\n",
    "  * Average Math Score\n",
    "  * Average Reading Score\n",
    "  * % Passing Math\n",
    "  * % Passing Reading\n",
    "  * Overall Passing Rate (Average of the above two)"
   ]
  },
  {
   "cell_type": "code",
   "execution_count": 77,
   "metadata": {
    "ExecuteTime": {
     "end_time": "2020-10-06T19:44:51.229010Z",
     "start_time": "2020-10-06T19:44:51.201088Z"
    }
   },
   "outputs": [
    {
     "name": "stdout",
     "output_type": "stream",
     "text": [
      "                  bins  math_score  reading_score  % Passing Math  \\\n",
      "bins                                                                \n",
      "(0, 585]      (0, 585]   83.455399      83.933814       93.702889   \n",
      "(585, 630]  (585, 630]   81.899826      83.155286       79.109851   \n",
      "(630, 645]  (630, 645]   78.518855      81.624473       70.623565   \n",
      "(645, 675]  (645, 675]   76.997210      81.027843       66.230813   \n",
      "\n",
      "            % Passing Reading  % Overall Passing  \n",
      "bins                                              \n",
      "(0, 585]            96.686558          90.640704  \n",
      "(585, 630]          88.513145          70.939239  \n",
      "(630, 645]          82.600247          58.841194  \n",
      "(645, 675]          81.109397          53.528791  \n"
     ]
    }
   ],
   "source": [
    " \n",
    "dfs1=dfsorig.sort_values(by='Per_Student_Budget') \n",
    "\n",
    "dfs1[\"bins\"]=pd.cut(dfs1['Per_Student_Budget'],\n",
    "      [0, 585, 630, 645, 675])\n",
    "\n",
    "\n",
    "dfs2=dfs1.groupby('bins').agg( { 'bins':'first',\n",
    "                                                   'math_score':'mean',\n",
    "                                                   'reading_score':'mean',                                                   \n",
    "                                                    'Passing Math':'sum',\n",
    "                                                    'Passing Reading':'sum',\n",
    "                                                    'Overall Passing': 'sum',\n",
    "                                                    'Student ID': 'sum'\n",
    "                                                   }\n",
    "                                                 )\n",
    "dfs2['% Passing Math']=dfs2['Passing Math']/dfs2['Student ID']*100\n",
    "dfs2['% Passing Reading']=dfs2['Passing Reading']/dfs2['Student ID']*100\n",
    "dfs2['% Overall Passing']=dfs2['Overall Passing']/dfs2['Student ID']*100\n",
    "\n",
    "del dfs2['Passing Math']\n",
    "del dfs2['Passing Reading']\n",
    "del dfs2['Student ID']\n",
    "del dfs2['Overall Passing']\n",
    "print(dfs2)\n",
    "\n"
   ]
  },
  {
   "cell_type": "markdown",
   "metadata": {},
   "source": [
    "## Scores by School Size"
   ]
  },
  {
   "cell_type": "markdown",
   "metadata": {},
   "source": [
    "* Perform the same operations as above, based on school size."
   ]
  },
  {
   "cell_type": "code",
   "execution_count": 88,
   "metadata": {
    "ExecuteTime": {
     "end_time": "2020-10-06T20:06:52.486504Z",
     "start_time": "2020-10-06T20:06:52.450568Z"
    },
    "scrolled": true
   },
   "outputs": [
    {
     "name": "stdout",
     "output_type": "stream",
     "text": [
      "                      bins  math_score  reading_score  % Passing Math  \\\n",
      "bins                                                                    \n",
      "(0, 1000]        (0, 1000]   83.821598      83.929843       93.952484   \n",
      "(1000, 2000]  (1000, 2000]   83.374684      83.864438       93.616522   \n",
      "(2000, 5000]  (2000, 5000]   77.746417      81.344493       68.652380   \n",
      "\n",
      "              % Passing Reading  % Overall Passing  \n",
      "bins                                                \n",
      "(0, 1000]             96.040317          90.136789  \n",
      "(1000, 2000]          96.773058          90.624267  \n",
      "(2000, 5000]          82.125158          56.574046  \n"
     ]
    }
   ],
   "source": [
    "\n",
    "dfs1=dfsorig.sort_values(by='Student ID') \n",
    "\n",
    "dfs1[\"bins\"]=pd.cut(dfs1['Student ID'],\n",
    "      [0, 1000, 2000, 5000])\n",
    "\n",
    "\n",
    "dfs2=dfs1.groupby('bins').agg( { 'bins':'first',\n",
    "                                                   'math_score':'mean',\n",
    "                                                   'reading_score':'mean',                                                   \n",
    "                                                    'Passing Math':'sum',\n",
    "                                                    'Passing Reading':'sum',\n",
    "                                                    'Overall Passing': 'sum',\n",
    "                                                    'Student ID': 'sum'\n",
    "                                                   }\n",
    "                                                 )\n",
    "dfs2['% Passing Math']=dfs2['Passing Math']/dfs2['Student ID']*100\n",
    "dfs2['% Passing Reading']=dfs2['Passing Reading']/dfs2['Student ID']*100\n",
    "dfs2['% Overall Passing']=dfs2['Overall Passing']/dfs2['Student ID']*100\n",
    "\n",
    "del dfs2['Passing Math']\n",
    "del dfs2['Passing Reading']\n",
    "del dfs2['Student ID']\n",
    "del dfs2['Overall Passing']\n",
    "print(dfs2)"
   ]
  },
  {
   "cell_type": "markdown",
   "metadata": {},
   "source": [
    "## Scores by School Type"
   ]
  },
  {
   "cell_type": "markdown",
   "metadata": {},
   "source": [
    "* Perform the same operations as above, based on school type"
   ]
  },
  {
   "cell_type": "code",
   "execution_count": 100,
   "metadata": {
    "ExecuteTime": {
     "end_time": "2020-10-06T20:27:51.597665Z",
     "start_time": "2020-10-06T20:27:51.555734Z"
    }
   },
   "outputs": [
    {
     "name": "stdout",
     "output_type": "stream",
     "text": [
      "              type  math_score  reading_score  % Passing Math  \\\n",
      "type                                                            \n",
      "Charter    Charter   83.473852      83.896421       93.701821   \n",
      "District  District   76.956733      80.966636       66.518387   \n",
      "\n",
      "          % Passing Reading  % Overall Passing  \n",
      "type                                            \n",
      "Charter           96.645891          90.560932  \n",
      "District          80.905249          53.695878  \n"
     ]
    }
   ],
   "source": [
    "dfs1=dfsorig.sort_values(by='type') \n",
    "\n",
    "\n",
    "      \n",
    "\n",
    "\n",
    "dfs2=dfs1.groupby('type').agg( { 'type':'first',\n",
    "                                                   'math_score':'mean',\n",
    "                                                   'reading_score':'mean',                                                   \n",
    "                                                    'Passing Math':'sum',\n",
    "                                                    'Passing Reading':'sum',\n",
    "                                                    'Overall Passing': 'sum',\n",
    "                                                    'Student ID': 'sum'\n",
    "                                                   }\n",
    "                                                 )\n",
    "dfs2['% Passing Math']=dfs2['Passing Math']/dfs2['Student ID']*100\n",
    "dfs2['% Passing Reading']=dfs2['Passing Reading']/dfs2['Student ID']*100\n",
    "dfs2['% Overall Passing']=dfs2['Overall Passing']/dfs2['Student ID']*100\n",
    "\n",
    "del dfs2['Passing Math']\n",
    "del dfs2['Passing Reading']\n",
    "del dfs2['Student ID']\n",
    "del dfs2['Overall Passing']\n",
    "print(dfs2)"
   ]
  },
  {
   "cell_type": "code",
   "execution_count": null,
   "metadata": {},
   "outputs": [],
   "source": []
  }
 ],
 "metadata": {
  "anaconda-cloud": {},
  "kernel_info": {
   "name": "python3"
  },
  "kernelspec": {
   "display_name": "Python 3",
   "language": "python",
   "name": "python3"
  },
  "language_info": {
   "codemirror_mode": {
    "name": "ipython",
    "version": 3
   },
   "file_extension": ".py",
   "mimetype": "text/x-python",
   "name": "python",
   "nbconvert_exporter": "python",
   "pygments_lexer": "ipython3",
   "version": "3.8.3"
  },
  "latex_envs": {
   "LaTeX_envs_menu_present": true,
   "autoclose": false,
   "autocomplete": true,
   "bibliofile": "biblio.bib",
   "cite_by": "apalike",
   "current_citInitial": 1,
   "eqLabelWithNumbers": true,
   "eqNumInitial": 1,
   "hotkeys": {
    "equation": "Ctrl-E",
    "itemize": "Ctrl-I"
   },
   "labels_anchors": false,
   "latex_user_defs": false,
   "report_style_numbering": false,
   "user_envs_cfg": false
  },
  "nteract": {
   "version": "0.8.4"
  },
  "toc": {
   "base_numbering": 1,
   "nav_menu": {},
   "number_sections": true,
   "sideBar": true,
   "skip_h1_title": false,
   "title_cell": "Table of Contents",
   "title_sidebar": "Contents",
   "toc_cell": false,
   "toc_position": {},
   "toc_section_display": true,
   "toc_window_display": false
  },
  "varInspector": {
   "cols": {
    "lenName": 16,
    "lenType": 16,
    "lenVar": 40
   },
   "kernels_config": {
    "python": {
     "delete_cmd_postfix": "",
     "delete_cmd_prefix": "del ",
     "library": "var_list.py",
     "varRefreshCmd": "print(var_dic_list())"
    },
    "r": {
     "delete_cmd_postfix": ") ",
     "delete_cmd_prefix": "rm(",
     "library": "var_list.r",
     "varRefreshCmd": "cat(var_dic_list()) "
    }
   },
   "types_to_exclude": [
    "module",
    "function",
    "builtin_function_or_method",
    "instance",
    "_Feature"
   ],
   "window_display": false
  }
 },
 "nbformat": 4,
 "nbformat_minor": 1
}
